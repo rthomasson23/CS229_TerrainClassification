{
 "cells": [
  {
   "cell_type": "markdown",
   "metadata": {},
   "source": [
    "## Imports"
   ]
  },
  {
   "cell_type": "code",
   "execution_count": null,
   "metadata": {},
   "outputs": [],
   "source": [
    "import pickle\n",
    "import torch.nn as nn\n",
    "import torch.nn.functional as F\n",
    "import torch.optim as optim\n",
    "import torch\n",
    "import ProcessData as dp\n",
    "import VisLib as vis"
   ]
  },
  {
   "cell_type": "markdown",
   "metadata": {},
   "source": [
    "## Get Data Loaders"
   ]
  },
  {
   "cell_type": "code",
   "execution_count": null,
   "metadata": {},
   "outputs": [],
   "source": [
    "with open('goodDataLoaders', 'rb') as filehandle:\n",
    "    # read the data as binary data stream\n",
    "    dataLoaders = pickle.load(filehandle)\n",
    "trainLoader = dataLoaders[0] \n",
    "evalLoader = dataLoaders[1]\n",
    "testLoader = dataLoaders[2]"
   ]
  },
  {
   "cell_type": "markdown",
   "metadata": {},
   "source": [
    "## Define Model"
   ]
  },
  {
   "cell_type": "code",
   "execution_count": null,
   "metadata": {},
   "outputs": [],
   "source": [
    "# class Net(nn.Module):\n",
    "#     def __init__(self):\n",
    "#         super(Net, self).__init__()\n",
    "        \n",
    "#         self.conv1 = nn.Conv2d(6,16,kernel_size=(1,3),stride=1,padding=(0,1))\n",
    "#         self.conv2 = nn.Conv2d(16,32,kernel_size=(1,3),stride=1,padding=(0,1))\n",
    "#         self.fc1 = nn.Linear(2113, 128)\n",
    "#         self.fc2 = nn.Linear(128, 8)\n",
    "#         self.dropout = nn.Dropout(p=0.5)\n",
    "#         self.pool = nn.MaxPool2d((1, 3), stride=1)    \n",
    "    \n",
    "\n",
    "#     def forward(self, x, f):\n",
    "#         x.view(x.size(0), -1)\n",
    "#         x = self.dropout(self.pool(F.relu(self.conv1(x))))\n",
    "#         x = self.dropout(self.pool(F.relu(self.conv2(x))))\n",
    "#         x = x.view(x.size(0), -1)   \n",
    "#         x = torch.cat((x,f), dim=1)\n",
    "#         x = self.dropout(F.relu(self.fc1(x)))\n",
    "#         x = self.fc2(x)\n",
    "        \n",
    "#         return x\n",
    "\n",
    "class Net(nn.Module):\n",
    "    def __init__(self):\n",
    "        super(Net, self).__init__()\n",
    "        \n",
    "        self.conv1 = nn.Conv2d(6,24,kernel_size=(1,5),stride=1,padding=(0,1))\n",
    "        self.conv2 = nn.Conv2d(24,24, kernel_size=(1,5),stride=1,padding=(0,1))\n",
    "        self.conv3 = nn.Conv2d(24,24, kernel_size=(1,5),stride=1,padding=(0,1))\n",
    "        self.conv4 = nn.Conv2d(24,24, kernel_size=(1,5),stride=1,padding=(0,1))\n",
    "        self.fc1 = nn.Linear(1401-30, 50)\n",
    "        self.fc2 = nn.Linear(50, 8)\n",
    "        self.dropout = nn.Dropout(p=0.5)\n",
    "        self.pool = nn.MaxPool2d((1, 2), stride=1)\n",
    "\n",
    "    def forward(self, x, f):\n",
    "        x.view(x.size(0), -1)\n",
    "        x = F.relu( self.conv1(x) )\n",
    "        x = self.pool(x)\n",
    "        x = self.dropout(x)\n",
    "        x = F.relu( self.conv2(x) )\n",
    "        x = self.pool(x)\n",
    "        x = self.dropout(x)\n",
    "        x = F.relu( self.conv3(x) )\n",
    "        x = self.pool(x)\n",
    "        x = self.dropout(x)\n",
    "        x = F.relu( self.conv4(x) )\n",
    "        x = self.pool(x)\n",
    "        x = self.dropout(x)\n",
    "        x = x.view(x.size(0), -1)\n",
    "\n",
    "        x = torch.cat((x,f[:,[2,3,5]]), dim=1)\n",
    "        \n",
    "        x = F.relu(self.fc1(x))\n",
    "        x = self.fc2(x)\n",
    "        \n",
    "        return x\n",
    "\n",
    "\n",
    "net = Net()\n"
   ]
  },
  {
   "cell_type": "markdown",
   "metadata": {},
   "source": [
    "## Setup for Training"
   ]
  },
  {
   "cell_type": "code",
   "execution_count": null,
   "metadata": {},
   "outputs": [],
   "source": [
    "def weights_init(m):\n",
    "    if isinstance(m, nn.Conv2d):\n",
    "        nn.init.xavier_uniform_(m.weight.data)\n",
    "        nn.init.xavier_uniform_(m.weight.data)\n",
    "        \n",
    "def weight_reset(m):\n",
    "    if isinstance(m, nn.Conv2d) or isinstance(m, nn.Linear):\n",
    "        m.reset_parameters()\n",
    "\n",
    "net = Net()\n",
    "device = torch.device(\"cuda:0\" if torch.cuda.is_available() else \"cpu\")\n",
    "net.to(device)\n",
    "\n",
    "criterion = nn.CrossEntropyLoss()\n",
    "learning_rate = 1e-4\n",
    "optimizer = torch.optim.Adam(net.parameters(), lr=learning_rate)\n",
    "\n",
    "\n",
    "# net.apply(weights_init)"
   ]
  },
  {
   "cell_type": "markdown",
   "metadata": {},
   "source": [
    "## Train Net"
   ]
  },
  {
   "cell_type": "code",
   "execution_count": null,
   "metadata": {},
   "outputs": [],
   "source": [
    "train_loss_values = []\n",
    "train_terrain_accuracy = []\n",
    "train_class_accuracy = []\n",
    "\n",
    "val_terrain_accuracy = []\n",
    "val_class_accuracy = []\n",
    "\n",
    "best_acc = 0\n",
    "terrain_flag = False\n",
    "class_flag = True\n",
    "\n",
    "model_path = './6_11_complex_allFeatures_class'\n",
    "curve_data_filename = '6_11_curveData_complex_allFeatures_class'\n",
    "\n",
    "for epoch in range(1000):  # loop over the dataset multiple times\n",
    "    running_loss = 0.0\n",
    "    for i, data in enumerate(trainLoader, 0):\n",
    "\n",
    "        net = net.train()\n",
    "\n",
    "        inputs = data['tactile_data']\n",
    "        features = data['custom_features']\n",
    "        labels_class = data['class']\n",
    "        labels_terrain = data['terrain']\n",
    "\n",
    "        inputs = inputs.float()\n",
    "        features = features.float()\n",
    "        labels_class = labels_class.long()\n",
    "        labels_terrain = labels_terrain.long()\n",
    "\n",
    "        inputs = inputs.to(device)\n",
    "        features = features.to(device)\n",
    "        labels_class = labels_class.to(device)\n",
    "        labels_terrain = labels_terrain.to(device)\n",
    "\n",
    "        optimizer.zero_grad()\n",
    "\n",
    "        # forward + backward + optimize\n",
    "        outputs = net(inputs, features)\n",
    "        \n",
    "        if terrain_flag:\n",
    "            loss = criterion(outputs, labels_terrain)\n",
    "        elif class_flag:\n",
    "            loss = criterion(outputs, labels_class)\n",
    "        loss.backward()\n",
    "        optimizer.step()\n",
    "\n",
    "        # print statistics\n",
    "        running_loss += loss.item()\n",
    "\n",
    "\n",
    "        if i % 2000 == 1999:    # print every 2000 mini-batches\n",
    "\n",
    "            net = net.eval()\n",
    "\n",
    "            print('[%d, %5d] loss: %.3f' %\n",
    "                  (epoch + 1, i + 1, running_loss / 2000))\n",
    "            train_loss_values.append(running_loss)\n",
    "\n",
    "            train_acc = vis.GetAcc(net, epoch, trainLoader, 'train', terrain_flag=terrain_flag)\n",
    "            val_acc = vis.GetAcc(net, epoch, evalLoader, 'eval', terrain_flag=terrain_flag)\n",
    "\n",
    "            if terrain_flag:\n",
    "                train_terrain_accuracy.append(train_acc)\n",
    "                val_terrain_accuracy.append(val_acc)\n",
    "            elif class_flag:\n",
    "                train_class_accuracy.append(train_acc)\n",
    "                val_class_accuracy.append(val_acc)\n",
    "\n",
    "            if val_acc > best_acc:\n",
    "                PATH = model_path\n",
    "                torch.save(net.state_dict(), PATH)\n",
    "                best_acc = val_acc\n",
    "                if terrain_flag:\n",
    "                    curve_data = [train_loss_values, train_terrain_accuracy, val_terrain_accuracy]\n",
    "                elif class_flag:\n",
    "                    curve_data = [train_loss_values, train_class_accuracy, val_class_accuracy]\n",
    "                with open(curve_data_filename, 'wb') as filehandle:\n",
    "                    pickle.dump(curve_data, filehandle)\n",
    "                print('New Best Accuracy: %.3f' % best_acc)\n",
    "\n",
    "\n",
    "            running_loss = 0.0\n",
    "\n",
    "print('Finished Training')"
   ]
  },
  {
   "cell_type": "markdown",
   "metadata": {},
   "source": [
    "## Plot Results"
   ]
  },
  {
   "cell_type": "code",
   "execution_count": null,
   "metadata": {},
   "outputs": [],
   "source": [
    "model = Net()\n",
    "model.load_state_dict(torch.load('./6_11_complex_gaitParam_terrain'))\n",
    "model.cuda()\n",
    "\n",
    "cdt, idt, cdc, idc = vis.GetDicts(model, evalLoader, terrain_flag = True)\n",
    "# cdc, idc = vis.GetDicts(model, evalLoader, terrain_flag = False)\n",
    "\n",
    "vis.PlotConfusionMatrix(vis.CreateConfusionMatrix(cdt, idt), vis.terrain_labels)\n",
    "# vis.PlotConfusionMatrix(vis.CreateConfusionMatrix(cdc, idc), vis.class_labels)"
   ]
  },
  {
   "cell_type": "code",
   "execution_count": null,
   "metadata": {},
   "outputs": [],
   "source": [
    "with open('6_11_curveData_complex_gaitParam_terrain', 'rb') as filehandle:\n",
    "    # read the data as binary data stream\n",
    "    curve_data = pickle.load(filehandle)\n",
    "tlv = curve_data[0] \n",
    "tca = curve_data[1]\n",
    "vca = curve_data[2]\n"
   ]
  },
  {
   "cell_type": "code",
   "execution_count": null,
   "metadata": {},
   "outputs": [],
   "source": [
    "import numpy as np\n",
    "import matplotlib.pyplot as plt\n",
    "\n",
    "num_epochs = len(tca)/2 # because it saves a point twive per epoch\n",
    "training_time = np.linspace(0, num_epochs, len(tca))\n",
    "\n",
    "plt.rcParams.update({'font.size': 22})\n",
    "plt.plot(np.array(training_time), np.array(tlv), 'r')\n",
    "plt.xlabel('training time')\n",
    "plt.ylabel('training loss')\n",
    "plt.show()\n",
    "\n",
    "plt.plot(np.array(training_time), np.array(tca), 'b', label=\"Train\")\n",
    "plt.plot(np.array(training_time), np.array(vca), 'g', label=\"Validation\")\n",
    "plt.xlabel('training epoch')\n",
    "plt.ylabel('terrain accuracy [%]')\n",
    "plt.legend(bbox_to_anchor=(0., 1.02, 1., .102), loc='lower left',\n",
    "           ncol=2, mode=\"expand\", borderaxespad=0.)\n",
    "plt.show()"
   ]
  },
  {
   "cell_type": "code",
   "execution_count": null,
   "metadata": {},
   "outputs": [],
   "source": []
  }
 ],
 "metadata": {
  "kernelspec": {
   "display_name": "cs229",
   "language": "python",
   "name": "cs229"
  },
  "language_info": {
   "codemirror_mode": {
    "name": "ipython",
    "version": 3
   },
   "file_extension": ".py",
   "mimetype": "text/x-python",
   "name": "python",
   "nbconvert_exporter": "python",
   "pygments_lexer": "ipython3",
   "version": "3.6.6"
  }
 },
 "nbformat": 4,
 "nbformat_minor": 2
}
